{
 "cells": [
  {
   "cell_type": "code",
   "execution_count": 1,
   "metadata": {},
   "outputs": [
    {
     "name": "stdout",
     "output_type": "stream",
     "text": [
      "[3, 3] [3, 3]\n"
     ]
    }
   ],
   "source": [
    "i=j=[3]\n",
    "i+=j\n",
    "print(i,j)\n",
    "#Lists are mutable."
   ]
  },
  {
   "cell_type": "code",
   "execution_count": 2,
   "metadata": {},
   "outputs": [
    {
     "name": "stdout",
     "output_type": "stream",
     "text": [
      "6 3\n"
     ]
    }
   ],
   "source": [
    "i=j=3\n",
    "i+=j\n",
    "print(i, j)\n",
    "#Integers are not mutable"
   ]
  },
  {
   "cell_type": "code",
   "execution_count": 1,
   "metadata": {},
   "outputs": [
    {
     "name": "stdout",
     "output_type": "stream",
     "text": [
      "[4, 3]\n"
     ]
    }
   ],
   "source": [
    "my_list=[1,2,3,4,5]\n",
    "result=my_list[-2:-4:-1]\n",
    "print(result)\n",
    "\"\"\"-2 in this case is the second position from last while -4 is the fourth positon from last.\n",
    "The list is sliced from -2 position to -4 in this case the last position which will not be included in\n",
    "the slice. The -1 stands for the step, in this case slicing every element without skipping in the backward\n",
    "direction\"\"\""
   ]
  },
  {
   "cell_type": "code",
   "execution_count": 3,
   "metadata": {},
   "outputs": [
    {
     "name": "stdout",
     "output_type": "stream",
     "text": [
      "None\n"
     ]
    }
   ],
   "source": [
    "def func():\n",
    "    a, *b, c=[\"car\", \"Dog\", \"Tiger\", \"Lion\"]\n",
    "    item = b\n",
    "    return \"Lion\" in [item] or None\n",
    "print(func())\n",
    "\"\"\"Three variables assigned items from the adjascent list which has four values.\n",
    "variable 'a' is assigned the first item while variable 'c' is assigned the last item.\n",
    "'*b' is assigned all remaining items in the list not assigned to any variable (in the form of a smaller list within\n",
    "the original)\n",
    "The code is not recursive and will therefore not check the new smaller list created within the original list\n",
    "(nested list), and may therefore give an output of None at all times unless prompted to check the nested list\"\"\""
   ]
  },
  {
   "cell_type": "code",
   "execution_count": 2,
   "metadata": {},
   "outputs": [
    {
     "name": "stdout",
     "output_type": "stream",
     "text": [
      "['cherry']\n"
     ]
    }
   ],
   "source": [
    "class Myclass:\n",
    "    def __init__(self, data: tuple or list):\n",
    "        self.data = data\n",
    "    def my_method(self):\n",
    "        if isinstance(self.data, tuple):\n",
    "            return self.data[1:][::-1]\n",
    "        else:\n",
    "            return self.data[::-3]\n",
    "words = ['apple', 'banana', 'cherry']\n",
    "obj = Myclass(words)\n",
    "print(obj.my_method()) \n",
    "\"\"\"data[1:]`: This slice notation represents all elements in the `data` sequence from the second element onwards. \n",
    "The start index in Python is 0, so an index of 1 represents the second element. By leaving the stop index blank, \n",
    "we're saying \"go all the way to the end\". So `data[1:]` gives us all elements except the first one\n",
    "\n",
    "`[::-1]`: This slice notation represents a reversed copy of the sequence. The `-1` as the step value means \"step \n",
    "backwards by 1\". This results in a new sequence where the elements are in reverse order compared to the original sequence.\n",
    "\n",
    "The operation `[::n]` on a list or tuple in Python returns every nth element.\n",
    "\n",
    " `[::-3]`: This slice notation represents a new sequence with every third element from the original sequence, but in reverse order. The `-3` as the step value means \"step backwards by 3\". Starting from the end (due to the negative step), it selects every third element. If the original sequence doesn't have a multiple of three elements, the last element of the sliced sequence will be from the beginning of the original sequence.\n",
    "\n",
    "------------------\n",
    "\n",
    "The reversed list only has three elements, so every third element is just the first one, 'cherry'.\n",
    "\n",
    "That's why the final output of `print(obj.my_method())` is ['cherry'].\"\"\"   "
   ]
  },
  {
   "cell_type": "code",
   "execution_count": 3,
   "metadata": {},
   "outputs": [
    {
     "name": "stdout",
     "output_type": "stream",
     "text": [
      "Time taken by the function is:  0.27059459686279297\n"
     ]
    }
   ],
   "source": [
    "'''Measuring time taken to run a piece of python code'''\n",
    "def fib(n):\n",
    "    if n <=1:\n",
    "        return n\n",
    "    else:\n",
    "        return fib(n-1)+fib(n-2)\n",
    "import time\n",
    "start_time = time.time()\n",
    "fib(30)\n",
    "end_time = time.time()\n",
    "print(\"Time taken by the function is: \", end_time - start_time)"
   ]
  },
  {
   "cell_type": "code",
   "execution_count": 6,
   "metadata": {},
   "outputs": [
    {
     "name": "stdout",
     "output_type": "stream",
     "text": [
      "Time taken by the function is:  0.3221854000003077\n"
     ]
    }
   ],
   "source": [
    "'''Measuring time taken to run a piece of python code ...ALTERNATIVE METHOD'''\n",
    "import timeit\n",
    "start_time = timeit.default_timer()\n",
    "fib(30)\n",
    "end_time = timeit.default_timer()\n",
    "print(\"Time taken by the function is: \", end_time-start_time)"
   ]
  }
 ],
 "metadata": {
  "kernelspec": {
   "display_name": "Python 3",
   "language": "python",
   "name": "python3"
  },
  "language_info": {
   "codemirror_mode": {
    "name": "ipython",
    "version": 3
   },
   "file_extension": ".py",
   "mimetype": "text/x-python",
   "name": "python",
   "nbconvert_exporter": "python",
   "pygments_lexer": "ipython3",
   "version": "3.11.4"
  },
  "orig_nbformat": 4
 },
 "nbformat": 4,
 "nbformat_minor": 2
}
